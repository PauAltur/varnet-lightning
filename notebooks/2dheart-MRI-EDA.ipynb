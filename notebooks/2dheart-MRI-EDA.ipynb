{
 "cells": [
  {
   "cell_type": "markdown",
   "metadata": {},
   "source": [
    "# Explore 2D+t Heart MRI dataset"
   ]
  },
  {
   "cell_type": "code",
   "execution_count": null,
   "metadata": {},
   "outputs": [],
   "source": [
    "%load_ext jupyter_black"
   ]
  },
  {
   "cell_type": "code",
   "execution_count": null,
   "metadata": {},
   "outputs": [],
   "source": [
    "import os\n",
    "import sys\n",
    "import numpy as np\n",
    "import matplotlib.pyplot as plt\n",
    "import matplotlib.animation as animation\n",
    "\n",
    "from scipy.io import loadmat\n",
    "from tempfile import NamedTemporaryFile\n",
    "\n",
    "sys.path.append(\"../\")  # append repo root dir\n",
    "\n",
    "from utils.plotting import display_video_grid"
   ]
  },
  {
   "cell_type": "markdown",
   "metadata": {},
   "source": [
    "## 1. Load data"
   ]
  },
  {
   "cell_type": "code",
   "execution_count": null,
   "metadata": {},
   "outputs": [],
   "source": [
    "# load images from mat file\n",
    "data = loadmat(\"../data/raw/2dt_heart.mat\")"
   ]
  },
  {
   "cell_type": "code",
   "execution_count": null,
   "metadata": {},
   "outputs": [],
   "source": [
    "# parse the images\n",
    "videos = data[\"imgs\"]\n",
    "videos = np.moveaxis(videos, (2, 3), (1, 0))\n",
    "videos.shape"
   ]
  },
  {
   "cell_type": "markdown",
   "metadata": {},
   "source": [
    "## 2. Visualize the videos"
   ]
  },
  {
   "cell_type": "code",
   "execution_count": null,
   "metadata": {},
   "outputs": [],
   "source": [
    "# Display the video grid\n",
    "sampled_indices = np.random.choice(videos.shape[0], 16, replace=False)\n",
    "display_video_grid(videos[sampled_indices], grid_size=(4, 4), figsize=(24, 24))"
   ]
  },
  {
   "cell_type": "markdown",
   "metadata": {},
   "source": [
    "## 3. Fourier Transform the images"
   ]
  },
  {
   "cell_type": "code",
   "execution_count": null,
   "metadata": {},
   "outputs": [],
   "source": [
    "videos_fft = np.fft.fftshift(np.fft.fft2(videos, axes=(-2, -1)), axes=(-2, -1))\n",
    "\n",
    "# Display the video grid\n",
    "display_video_grid(\n",
    "    np.abs(videos_fft[sampled_indices]), grid_size=(4, 4), figsize=(24, 24), norm=\"log\"\n",
    ")"
   ]
  },
  {
   "cell_type": "markdown",
   "metadata": {},
   "source": [
    "## 4. Randomly mask 75% of rows"
   ]
  },
  {
   "cell_type": "code",
   "execution_count": null,
   "metadata": {},
   "outputs": [],
   "source": [
    "factor = 0.5\n",
    "# Determine the number of rows and the middle row\n",
    "num_rows = videos_fft.shape[2]\n",
    "middle_row = num_rows // 2\n",
    "\n",
    "# Create an array of row indices excluding the middle row\n",
    "row_indices = np.delete(np.arange(num_rows), middle_row)\n",
    "\n",
    "num_zero_rows = int(factor * num_rows)\n",
    "\n",
    "mask = np.zeros_like(videos_fft, dtype=bool)\n",
    "\n",
    "# Randomly select rows to zero out from 'row_indices'\n",
    "for i in range(videos_fft.shape[0]):\n",
    "    for j in range(videos_fft.shape[1]):\n",
    "        selected_rows = np.random.choice(row_indices, num_zero_rows, replace=False)\n",
    "        mask[i, j, selected_rows, :] = True\n",
    "\n",
    "# Apply the mask to 'videos_fft'\n",
    "videos_fft_masked = videos_fft.copy()\n",
    "videos_fft_masked[mask] = 1\n",
    "\n",
    "# Display the video grid\n",
    "display_video_grid(\n",
    "    np.abs(videos_fft_masked[sampled_indices]),\n",
    "    grid_size=(4, 4),\n",
    "    figsize=(24, 24),\n",
    "    norm=\"log\",\n",
    ")"
   ]
  },
  {
   "cell_type": "markdown",
   "metadata": {},
   "source": [
    "## 5. Inverse FFT the images"
   ]
  },
  {
   "cell_type": "code",
   "execution_count": null,
   "metadata": {},
   "outputs": [],
   "source": [
    "videos_masked = np.fft.ifft2(\n",
    "    np.fft.ifftshift(videos_fft_masked, axes=(-2, -1)), axes=(-2, -1)\n",
    ")\n",
    "\n",
    "# Display the video grid\n",
    "display_video_grid(\n",
    "    np.abs(videos_masked[sampled_indices]), grid_size=(4, 4), figsize=(24, 24)\n",
    ")"
   ]
  }
 ],
 "metadata": {
  "kernelspec": {
   "display_name": "projectB",
   "language": "python",
   "name": "python3"
  },
  "language_info": {
   "codemirror_mode": {
    "name": "ipython",
    "version": 3
   },
   "file_extension": ".py",
   "mimetype": "text/x-python",
   "name": "python",
   "nbconvert_exporter": "python",
   "pygments_lexer": "ipython3",
   "version": "3.12.1"
  }
 },
 "nbformat": 4,
 "nbformat_minor": 2
}
